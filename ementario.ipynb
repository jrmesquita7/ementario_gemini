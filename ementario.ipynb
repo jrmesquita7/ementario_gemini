{
  "nbformat": 4,
  "nbformat_minor": 0,
  "metadata": {
    "colab": {
      "provenance": [],
      "authorship_tag": "ABX9TyNpP1+zvarWDQZ5fnw3r4OD",
      "include_colab_link": true
    },
    "kernelspec": {
      "name": "python3",
      "display_name": "Python 3"
    },
    "language_info": {
      "name": "python"
    }
  },
  "cells": [
    {
      "cell_type": "markdown",
      "metadata": {
        "id": "view-in-github",
        "colab_type": "text"
      },
      "source": [
        "<a href=\"https://colab.research.google.com/github/jrmesquita7/ementario_gemini/blob/main/ementario.ipynb\" target=\"_parent\"><img src=\"https://colab.research.google.com/assets/colab-badge.svg\" alt=\"Open In Colab\"/></a>"
      ]
    },
    {
      "cell_type": "markdown",
      "source": [
        "## **BIBLIOTECAS**"
      ],
      "metadata": {
        "id": "jLD_gCKbcjSU"
      }
    },
    {
      "cell_type": "code",
      "source": [
        "import textwrap\n",
        "from IPython.display import Markdown, display\n",
        "\n",
        "from pathlib import Path\n",
        "import hashlib\n",
        "import google.generativeai as genai"
      ],
      "metadata": {
        "id": "KmWzsw-JcZH2"
      },
      "execution_count": 29,
      "outputs": []
    },
    {
      "cell_type": "markdown",
      "source": [
        "# **CONFIGURAÇÃO DE API_KEY**"
      ],
      "metadata": {
        "id": "j4QlHzDbc80L"
      }
    },
    {
      "cell_type": "code",
      "source": [
        "from google.colab import userdata\n",
        "api_key = userdata.get('SECRET_KEY')\n",
        "genai.configure(api_key=api_key)"
      ],
      "metadata": {
        "id": "vQI7SXoJdMCv"
      },
      "execution_count": 30,
      "outputs": []
    },
    {
      "cell_type": "markdown",
      "source": [
        "# **CONFIGURAÇÃO DOS PARÂMETROS**"
      ],
      "metadata": {
        "id": "dlP5ztCUdQvR"
      }
    },
    {
      "cell_type": "code",
      "source": [
        "generation_config = {\n",
        "  \"temperature\": 1,\n",
        "  \"top_p\": 0.95,\n",
        "  \"top_k\": 0,\n",
        "  \"max_output_tokens\": 8192,\n",
        "}\n",
        "\n",
        "safety_settings = [\n",
        "  {\n",
        "    \"category\": \"HARM_CATEGORY_HARASSMENT\",\n",
        "    \"threshold\": \"BLOCK_MEDIUM_AND_ABOVE\"\n",
        "  },\n",
        "  {\n",
        "    \"category\": \"HARM_CATEGORY_HATE_SPEECH\",\n",
        "    \"threshold\": \"BLOCK_MEDIUM_AND_ABOVE\"\n",
        "  },\n",
        "  {\n",
        "    \"category\": \"HARM_CATEGORY_SEXUALLY_EXPLICIT\",\n",
        "    \"threshold\": \"BLOCK_MEDIUM_AND_ABOVE\"\n",
        "  },\n",
        "  {\n",
        "    \"category\": \"HARM_CATEGORY_DANGEROUS_CONTENT\",\n",
        "    \"threshold\": \"BLOCK_MEDIUM_AND_ABOVE\"\n",
        "  },\n",
        "]"
      ],
      "metadata": {
        "id": "uXKt8N7wdZli"
      },
      "execution_count": 31,
      "outputs": []
    },
    {
      "cell_type": "markdown",
      "source": [
        "# **INSTRUÇÕES AO MODELO**"
      ],
      "metadata": {
        "id": "pMs0Ax_cdnZS"
      }
    },
    {
      "cell_type": "code",
      "source": [
        "system_instruction = \"\"\"\n",
        "você é um sistema de verificação de aproveitamento de disciplina na faculdade santa terezinha CEST. você receberá uma entrada de ementa e verá qual\n",
        "a porcentagem de aproveitamento na disciplina.\\nNão será fornecido uma disciplina apenas, você receberá uma ementa completa e irá verificar todas e\n",
        "quais suas porcentagens de aproveitamento.\\nserá levado em consideração (similaridade do conteúdo, carga horária se conter, conteudo pragmático)\\n\\na\n",
        "resposta não deve conter observações, justificativas\"\"\""
      ],
      "metadata": {
        "id": "9anX0pWxdrhb"
      },
      "execution_count": 32,
      "outputs": []
    },
    {
      "cell_type": "markdown",
      "source": [
        "# **INICIALIZANDO MODELO**"
      ],
      "metadata": {
        "id": "r3Qsbat4eQ8U"
      }
    },
    {
      "cell_type": "code",
      "source": [
        "model = genai.GenerativeModel(model_name=\"gemini-1.5-pro-latest\",\n",
        "                              generation_config=generation_config,\n",
        "                              system_instruction=system_instruction,\n",
        "                              safety_settings=safety_settings)\n",
        "\n",
        "def extract_pdf_pages(pathname: str) -> list[str]:\n",
        "  parts = [f\"--- START OF PDF ${pathname} ---\"]\n",
        "  # Add logic to read the PDF and return a list of pages here.\n",
        "  pages = []\n",
        "  for index, page in enumerate(pages):\n",
        "    parts.append(f\"--- PAGE {index} ---\")\n",
        "    parts.append(page)\n",
        "  return parts"
      ],
      "metadata": {
        "id": "Yn5D7GMieazE"
      },
      "execution_count": 33,
      "outputs": []
    },
    {
      "cell_type": "markdown",
      "source": [
        "# **HISTÓRICO DE CONVERSAS PARA O TREINAMENTO**"
      ],
      "metadata": {
        "id": "aqPKauYwedLy"
      }
    },
    {
      "cell_type": "code",
      "source": [
        "convo = model.start_chat(history=[\n",
        "  {\n",
        "    \"role\": \"user\",\n",
        "    \"parts\": extract_pdf_pages(\"<path>/document0.pdf\")\n",
        "  },\n",
        "  {\n",
        "    \"role\": \"model\",\n",
        "    \"parts\": [\"\"\"## Análise de Aproveitamento de Disciplinas - CEST (Geral)\\n\\n**Disciplina: Lógica Computacional**\\nAproveitamento Total Estimado:\n",
        "     ~20-30%\\n* **Similaridade de Conteúdo:** Há uma sobreposição significativa em conceitos básicos de lógica, proposições, conectivos e álgebra booleana.\n",
        "      \\n* **Carga Horária:** A disciplina de Lógica Computacional possui carga horária maior, sugerindo um aprofundamento dos temas.\\n* **Conteúdo Pragmático:\n",
        "      ** A aplicação prática pode diferir, com Lógica Computacional focando em programação e a disciplina X possivelmente em outras áreas.\\n\\n**Disciplina:\n",
        "      Empreendedorismo e Inovação**\\nAproveitamento Total Estimado: ~0%\\n* **Similaridade de Conteúdo:** Não há sobreposição evidente de conteúdo entre as disciplinas.\n",
        "       \\n* **Carga Horária:** Não aplicável para comparação.\\n* **Conteúdo Pragmático:** Os objetivos e aplicações das disciplinas são distintos.\\n\\n**Disciplina:\n",
        "       Fundamentos da Computação**\\nAproveitamento Total Estimado: ~70-80%\\n* **Similaridade de Conteúdo:** Grande parte do conteúdo programático se sobrepõe,\n",
        "       incluindo arquitetura de computadores, sistemas de numeração, linguagens de programação e sistemas de informação.\\n* **Carga Horária:** As cargas horárias\n",
        "        são semelhantes, indicando uma cobertura similar dos temas.\\n* **Conteúdo Pragmático:** O foco em fundamentos da computação sugere uma aplicação prática\n",
        "        similar. \\n\\n**Observações:**\\n* A estimativa de aproveitamento é aproximada e pode variar dependendo da abordagem específica da disciplina X e dos critérios\n",
        "        de avaliação da CEST. \\n* É crucial analisar a ementa da disciplina X em conjunto com as informações acima para uma avaliação precisa.\"\"\"]\n",
        "  },\n",
        "  {\n",
        "    \"role\": \"user\",\n",
        "    \"parts\": [\"\"\"UNIDADE 1 - COMPONENTES DE COMPUTADORES\\n1.1 - Organização geral.\\n1.2 - Esquema típico de um microcomputador.\\n1.3 - Operação do computador.\\nUNIDADE 2\n",
        "    - NÚMEROS, ARITMÉTICA E CÓDIGOS\\n2.1 - Números binários, octais, hexadecimais.\\n2.2 - Aritmética binária.\\n2.3 - Ponto flutuante.\\n2.4 - Representação de valores negativos.\n",
        "    \\n2.5 - Códigos padronizados.\\nUNIDADE 3 - MEMÓRIAS\\n3.1 - Dispositivos de memória\\n3.2 - Organização de memória estática.\\n3.3 - Organização de memória dinâmica.\\n3.4 -\n",
        "    Bancos de memória.\\nUNIDADE 4 - ARQUITETURAS DE CONJUNTOS DE INSTRUÇÕES\\n4.1 - Estruturas de instruções.\\n4.2 - Registradores.\\n4.2 - Modos de endereçamento.\\n4.3 - Operações\n",
        "     condicionais.\\n4.4 - Pilhas e subrotinas.\\n(SEGUE)\\n PROGRAMA: (continuação)\\nUNIDADE 5 – LINGUAGEM DE MONTAGEM\\n5.1 - Funções básicas de um montador.\\n5.2 - Montadores de\n",
        "     duas passagem.\\n5.3 - Montadores de uma passagem.\\n5.4 - Programação em linguagem de montagem.\\nUNIDADE 6 - UNIDADE CENTRAL DE PROCESSAMENTO\\n6.1 - Fluxos de dados e de\n",
        "     endereços\\n6.2 - Diagramas de blocos.\\n6.3 - Ciclos de máquinas.\\n6.4 - Controle decodificado.\\n6.5 - Controle microprogramado.\\n6.6 - Interrupção, suspensão, parada e partida.\"\"\"]\n",
        "  },\n",
        "  {\n",
        "    \"role\": \"model\",\n",
        "    \"parts\": [\"\"\"## Análise de Aproveitamento para a Disciplina X\\n\\nCom base na ementa fornecida, a disciplina X parece estar fortemente relacionada à arquitetura de computadores\n",
        "     e organização de sistemas digitais. Vamos analisar o aproveitamento potencial com as disciplinas do primeiro período da CEST:\\n\\n**Disciplinas com Maior Potencial de\n",
        "     Aproveitamento:**\\n\\n* **Fundamentos da Computação:**  **Aproveitamento estimado: 80-90%**\\n    * **Similaridade de Conteúdo:** A ementa da disciplina X apresenta uma sobreposição\n",
        "     quase completa com o conteúdo de Fundamentos da Computação, abrangendo tópicos como arquitetura, sistemas numéricos, memórias, conjuntos de instruções e até mesmo linguagem\n",
        "     de montagem.\\n    * **Carga Horária:** Considerando a extensão do conteúdo programático, é provável que a carga horária seja similar ou até maior que a de Fundamentos da\n",
        "     Computação.\\n    * **Conteúdo Pragmático:** Ambas as disciplinas parecem ter um enfoque prático na compreensão do funcionamento interno dos computadores.\\n\\n**Disciplinas\n",
        "     com Menor Potencial de Aproveitamento:**\\n\\n* **Lógica Computacional:** **Aproveitamento estimado: 10-20%**\\n    * **Similaridade de Conteúdo:** Embora a base em sistemas\n",
        "     numéricos e lógica binária seja comum, a disciplina X parece se aprofundar mais na arquitetura e organização de hardware, enquanto Lógica Computacional se concentra em conceitos\n",
        "     abstratos e aplicações de lógica em programação. \\n* **Demais Disciplinas:** As demais disciplinas do primeiro período (Tecnologia e Sociedade, Leitura e Produção Textual Aplicada,\n",
        "     Empreendedorismo e Inovação, Fundamentos da Matemática, Métodos e Técnicas de Pesquisa) possuem pouca ou nenhuma relação com o conteúdo da disciplina X, resultando em um aproveitamento\n",
        "     mínimo ou inexistente.\\n\\n**Recomendações:**\\n\\n* É fundamental consultar o coordenador do curso ou o professor responsável pela disciplina X para obter uma avaliação precisa do aproveitamento,\n",
        "     levando em consideração as especificidades do programa e os critérios de avaliação da CEST.\\n* A análise detalhada da ementa da disciplina X, juntamente com as informações acima,\n",
        "     permitirá uma tomada de decisão mais informada sobre o aproveitamento de créditos.\"\"\"]\n",
        "  },\n",
        "  {\n",
        "    \"role\": \"user\",\n",
        "    \"parts\": [\"deve ser trago todas as disciplinas do arquivo destacando por ordem o periodo e nome das disciplinas com as suas respectivas porcentagens de aproveitameto\"]\n",
        "  },\n",
        "  {\n",
        "    \"role\": \"model\",\n",
        "    \"parts\": [\"\"\"## Análise de Aproveitamento de Disciplinas - CEST (Completo)\\n\\n**1º Período**\\n\\n* **Tecnologia e Sociedade:**\\n    * Aproveitamento estimado:\n",
        "    0% (sem relação com o conteúdo da disciplina X).\\n* **Leitura e Produção Textual Aplicada:**\\n    * Aproveitamento estimado: 0% (sem relação com o conteúdo da\n",
        "    disciplina X).\\n* **Lógica Computacional:** \\n    * Aproveitamento estimado: 10-20% (sobreposição em sistemas numéricos e lógica binária).\\n* **Empreendedorismo e\n",
        "    Inovação:**\\n    * Aproveitamento estimado: 0% (sem relação com o conteúdo da disciplina X).\\n* **Fundamentos da Computação:**\\n    * Aproveitamento estimado: 80-90%\n",
        "    (grande sobreposição de conteúdo em arquitetura, organização e funcionamento de computadores).\\n* **Fundamentos da Matemática:** \\n    * Aproveitamento estimado: 0%\n",
        "    (sem relação com o conteúdo da disciplina X). \\n* **Métodos e Técnicas de Pesquisa:**\\n    * Aproveitamento estimado: 0% (sem relação com o conteúdo da disciplina X).\n",
        "    \\n\\n**2º Período**\\n\\n* **Língua Portuguesa II:** \\n    * Aproveitamento estimado: 0% (sem relação com o conteúdo da disciplina X).\\n* **Inglês Instrumental:** \\n    *\n",
        "    Aproveitamento estimado: 0% (sem relação com o conteúdo da disciplina X).\\n* **Cálculo Diferencial e Integral:** \\n    * Aproveitamento estimado: 0% (sem relação com o\n",
        "    conteúdo da disciplina X).\\n* **Geometria Analítica e Álgebra Linear:**\\n    * Aproveitamento estimado: 0% (sem relação com o conteúdo da disciplina X).\\n* **Algoritmos e\n",
        "    Linguagem de Programação:**\\n    * Aproveitamento estimado: 20-30% (possível sobreposição em linguagem de montagem e estruturas de dados).\\n* **Métodos e Técnicas de Pesquisa II:**\\n\n",
        "    * Aproveitamento estimado: 0% (sem relação com o conteúdo da disciplina X).\\n* **Organização, Sistemas e Métodos:**\\n    * Aproveitamento estimado: 0% (sem relação com o conteúdo da disciplina X).\"\"\"]\n",
        "  },\n",
        "  {\n",
        "    \"role\": \"user\",\n",
        "    \"parts\": [\"Não deve ser trago a frase \\\"sem relação com o conteúdo da disciplina X\\\" ou tem relação com o conteúdo da disciplina X\"]\n",
        "  },\n",
        "  {\n",
        "    \"role\": \"model\",\n",
        "    \"parts\": [\"\"\"## Análise de Aproveitamento de Disciplinas - CEST (Completo)\\n\\n**1º Período**\\n\\n* **Tecnologia e Sociedade:** \\n    * Aproveitamento estimado:\n",
        "    0%.\\n* **Leitura e Produção Textual Aplicada:**\\n    * Aproveitamento estimado: 0%.\\n* **Lógica Computacional:** \\n    * Aproveitamento estimado: 10-20%\n",
        "    (sobreposição em sistemas numéricos e lógica binária).\\n* **Empreendedorismo e Inovação:**\\n    * Aproveitamento estimado: 0%.\\n* **Fundamentos da Computação:**\\n\n",
        "    * Aproveitamento estimado: 80-90% (grande sobreposição de conteúdo em arquitetura, organização e funcionamento de computadores).\\n* **Fundamentos da Matemática:** \\n\n",
        "    * Aproveitamento estimado: 0%. \\n* **Métodos e Técnicas de Pesquisa:**\\n    * Aproveitamento estimado: 0%.\\n\\n**2º Período**\\n\\n* **Língua Portuguesa II:** \\n\n",
        "    * Aproveitamento estimado: 0%.\\n* **Inglês Instrumental:** \\n    * Aproveitamento estimado: 0%.\\n* **Cálculo Diferencial e Integral:** \\n    * Aproveitamento estimado:\n",
        "    0%.\\n* **Geometria Analítica e Álgebra Linear:**\\n    * Aproveitamento estimado: 0%.\\n* **Algoritmos e Linguagem de Programação:**\\n    * Aproveitamento estimado: 20-30%\n",
        "    (possível sobreposição em linguagem de montagem e estruturas de dados).\\n* **Métodos e Técnicas de Pesquisa II:**\\n    * Aproveitamento estimado: 0%.\\n* **Organização,\n",
        "    Sistemas e Métodos:**\\n    * Aproveitamento estimado: 0%.\"\"\"]\n",
        "  },\n",
        "  {\n",
        "    \"role\": \"user\",\n",
        "    \"parts\": [\"\"\"UNIDADE 1 - INTRODUÇÃO AO ESTUDO DA ENGENHARIA DE SOFTWARE\\n1.1 - A \\\"crise\\\" do \\\"software\\\".\\n1.2 - Engenharia de \\\"software\\\": conceito, objetivos.\\nUNIDADE 2 –\n",
        "    MODELOS DE PROCESSO DE PRODUÇÃO DE \\\"SOFTWARE\\\"\\n2.1 - Ciclo de vida clássico.\\n2.2 - Prototipação.\\n2.3 – Processo Unificado.\\n2.4 – Processos Ágeis\\nUNIDADE 3 -\n",
        "    ENGENHARIA DE REQUISITOS\\n3.1 - Engenharia de sistemas.\\n3.2 - Análise de sistemas.\\n3.3 - Análise de requisitos de \\\"software\\\".\\n3.4 – Tipos de requisitos.\\nUNIDADE 4 –\n",
        "    ANÁLISE E PROJETO DE SOFTWARE\\n4.1 – Diagramas.\\n4.2 - Notações.\\nUNIDADE 5 – PROJETO DE SOFTWARE\\n5.1 – Arquitetura de “software”.\\n5.2 - Metodologias de projeto de\n",
        "    \\\"software\\\".\\n(SEGUE)\\n PROGRAMA: (continuação)\\nUNIDADE 6 - AMBIENTES DE DESENVOLVIMENTO DE \\\"SOFTWARE\\\"\\n6.1 - Metodologias de projeto de \\\"software\\\".\\n6.2 - Engenharia de\n",
        "    software auxiliada por computador (Ferramentas CASE).\\nUNIDADE 7 - IMPLEMENTAÇÃO DE \\\"SOFTWARE\\\"\\n7.1 - Estilos e padrões de codificação.\\n7.2 - Documentação.\\nUNIDADE 8 –\n",
        "    TESTES DE SOFTWARE\\n8.1 – Princípios de teste de “software”\\n8.2 – Estratégias de teste de “software”\"\"\"]\n",
        "  },\n",
        "  {\n",
        "    \"role\": \"model\",\n",
        "    \"parts\": [\"\"\"## Análise de Aproveitamento para a Nova Disciplina\\n\\nA nova disciplina apresentada parece estar relacionada à Engenharia de Software, abrangendo desde conceitos\n",
        "    básicos e modelos de processo até etapas de desenvolvimento como análise de requisitos, projeto e implementação. Vamos analisar o potencial de aproveitamento com as disciplinas\n",
        "    do primeiro e segundo período da CEST:\\n\\n**Disciplinas com Maior Potencial de Aproveitamento:**\\n\\n* **2º Período - Algoritmos e Linguagem de Programação:** Aproveitamento\n",
        "    estimado: 40-50%\\n    * **Similaridade de Conteúdo:** A nova disciplina aborda conceitos de projeto e implementação de software, o que pode ter alguma relação com os aspectos\n",
        "    de programação e estruturas de dados vistos em Algoritmos e Linguagem de Programação.\\n    * **Carga Horária:** A carga horária pode ser similar, dependendo da profundidade de\n",
        "    cada disciplina.\\n    * **Conteúdo Pragmático:** Ambas as disciplinas podem ter um enfoque prático no desenvolvimento de software, embora a nova disciplina provavelmente aborde\n",
        "    aspectos mais amplos do processo de engenharia.\\n\\n**Disciplinas com Menor Potencial de Aproveitamento:**\\n\\n* **1º Período - Lógica Computacional:** Aproveitamento estimado:\n",
        "    10-20%\\n    * **Similaridade de Conteúdo:** A base em lógica e pensamento computacional pode ser útil na nova disciplina, mas a sobreposição de conteúdo específico é limitada.\\n*\n",
        "    **Demais Disciplinas:** As demais disciplinas dos dois primeiros períodos (Tecnologia e Sociedade, Leitura e Produção Textual Aplicada, Empreendedorismo e Inovação, Fundamentos da\n",
        "    Computação, Fundamentos da Matemática, Métodos e Técnicas de Pesquisa, Língua Portuguesa II, Inglês Instrumental, Cálculo Diferencial e Integral, Geometria Analítica e Álgebra Linear,\n",
        "    Métodos e Técnicas de Pesquisa II, Organização, Sistemas e Métodos) possuem pouca ou nenhuma relação com o conteúdo da nova disciplina, resultando em um aproveitamento mínimo ou\n",
        "    inexistente.\\n\\n**Recomendações:**\\n\\n* Consultar o coordenador do curso ou o professor responsável pela nova disciplina é crucial para obter uma avaliação precisa do aproveitamento,\n",
        "    considerando as especificidades do programa e os critérios de avaliação da CEST.\\n* Comparar a ementa da nova disciplina com as disciplinas cursadas permitirá uma tomada de decisão\n",
        "    mais informada sobre o aproveitamento de créditos.\\n\\n**Observação:**\\n\\nA estimativa de aproveitamento é aproximada e pode variar dependendo da abordagem específica da nova disciplina e\n",
        "    dos critérios de avaliação da CEST.\"\"\"]\n",
        "  },\n",
        "  {\n",
        "    \"role\": \"user\",\n",
        "    \"parts\": [\"a resposta não deve conter observações, justificativas e observações, apenas o titulo, nome das disciplinas que serão comparadas e a porcentagem de aproveitamento\"]\n",
        "  },\n",
        "  {\n",
        "    \"role\": \"model\",\n",
        "    \"parts\": [\"\"\"## Análise de Aproveitamento para Nova Disciplina\\n\\n**Disciplinas Comparadas:**\\n\\n* **1º Período - Lógica Computacional:** 10-20%\\n* **1º Período -\n",
        "    Fundamentos da Computação:** 0%\\n* **2º Período - Algoritmos e Linguagem de Programação:** 40-50%\\n* **2º Período - Métodos e Técnicas de Pesquisa II:** 0%\"\"\"]\n",
        "  },\n",
        "  {\n",
        "    \"role\": \"user\",\n",
        "    \"parts\": [\"Tem que ser trago todas as disciplinas que estão no arquivo ementario\"]\n",
        "  },\n",
        "  {\n",
        "    \"role\": \"model\",\n",
        "    \"parts\": [\"\"\"## Análise de Aproveitamento para Nova Disciplina\\n\\n**Disciplinas Comparadas:**\\n\\n* **1º Período - Tecnologia e Sociedade:** 0%\\n* **1º Período -\n",
        "    Leitura e Produção Textual Aplicada:** 0%\\n* **1º Período - Lógica Computacional:** 10-20%\\n* **1º Período - Empreendedorismo e Inovação:** 0%\\n* **1º Período -\n",
        "    Fundamentos da Computação:** 0%\\n* **1º Período - Fundamentos da Matemática:** 0% \\n* **1º Período - Métodos e Técnicas de Pesquisa:** 0%\\n* **2º Período -\n",
        "    Língua Portuguesa II:** 0%\\n* **2º Período - Inglês Instrumental:** 0%\\n* **2º Período - Cálculo Diferencial e Integral:** 0%\\n* **2º Período - Geometria Analítica e Álgebra\n",
        "    Linear:** 0%\\n* **2º Período - Algoritmos e Linguagem de Programação:** 40-50%\\n* **2º Período - Métodos e Técnicas de Pesquisa II:** 0%\\n* **2º Período - Organização,\n",
        "    Sistemas e Métodos:** 0%\"\"\"]\n",
        "  },\n",
        "  {\n",
        "    \"role\": \"user\",\n",
        "    \"parts\": [\"Ótimo, todas as resposta seguintes devem seguir esse padrão\"]\n",
        "  },\n",
        "  {\n",
        "    \"role\": \"model\",\n",
        "    \"parts\": [\"## Entendido. As próximas respostas seguirão o padrão de apenas apresentar o título e as disciplinas comparadas com suas respectivas porcentagens de aproveitamento.\"]\n",
        "  },\n",
        "  {\n",
        "    \"role\": \"user\",\n",
        "    \"parts\": [\"\"\"UNIDADE 1 - INTRODUÇÃO A SISTEMAS OPERACIONAIS\\n1.1 - Histórico dos Sistemas Operacionais.\\n1.2 - Conceitos de Sistemas Operacionais.\\n1.3 - Chamadas de Sistema.\n",
        "    \\n1.4 - Estrutura de um Sistema Operacional.\\nUNIDADE 2 - GERÊNCIA DE PROCESSOS\\n2.1 - Conceituação.\\n2.2 - Comunicação entre processos.\\n2.3 - Escalonamento de processos.\\n2.4 -\n",
        "    Escalonamento em tempo real.\\n2.5 - Escalonamento em multiprocessadores.\\nUNIDADE 3 - GERÊNCIA DE MEMÓRIA\\n3.1 - Gerência de memória básica.\\n3.2 - Ligação\\n3.3 – Relocação e\n",
        "    Carga\\n3.4 - Troca (Swapping).\\n3.5 - Paginação.\\n3.6 - Segmentação.\\nUNIDADE 4 - GERÊNCIA DE ENTRADA E SAÍDA\\n4.1 - Hardware de entrada e saída.\\n4.2 - Software de entrada e\n",
        "    saída.\\n4.3 - Dispositivos orientados a bloco.\\n4.4 - Dispositivos orientados a caractere.\\n4.5 - Interbloqueios.\\n PROGRAMA: (continuação)\\nUNIDADE 5 - SISTEMAS DE ARQUIVOS\\n5.1 -\n",
        "    Arquivos e diretórios.\\n5.2 - Implementação de sistemas de arquivos.\\n5.3 - Segurança.\\n5.4 - Proteção.\"\"\"]\n",
        "  },\n",
        "  {\n",
        "    \"role\": \"model\",\n",
        "    \"parts\": [\"\"\"## Análise de Aproveitamento para Nova Disciplina\\n\\n**Disciplinas Comparadas:**\\n\\n* **1º Período - Tecnologia e Sociedade:** 0%\\n* **1º Período - Leitura e Produção\n",
        "    Textual Aplicada:** 0%\\n* **1º Período - Lógica Computacional:** 0%\\n* **1º Período - Empreendedorismo e Inovação:** 0%\\n* **1º Período - Fundamentos da Computação:** 20-30%\\n* **1º\n",
        "    Período - Fundamentos da Matemática:** 0% \\n* **1º Período - Métodos e Técnicas de Pesquisa:** 0%\\n* **2º Período - Língua Portuguesa II:** 0%\\n* **2º Período - Inglês Instrumental:**\n",
        "    0%\\n* **2º Período - Cálculo Diferencial e Integral:** 0%\\n* **2º Período - Geometria Analítica e Álgebra Linear:** 0%\\n* **2º Período - Algoritmos e Linguagem de Programação:**\n",
        "    10-20%\\n* **2º Período - Métodos e Técnicas de Pesquisa II:** 0%\\n* **2º Período - Organização, Sistemas e Métodos:** 0%\"\"\"]\n",
        "  },\n",
        "  {\n",
        "    \"role\": \"user\",\n",
        "    \"parts\": [\"\"\"UNIDADE 1 – INTRODUÇÃO\\n1.1 - Plano Pedagógico do Curso de Sistemas de Informação\\n1.2 - Profissões em Tecnologia da Informação.\\nUNIDADE 2 - HISTÓRIA DA COMPUTAÇÃO\\n2.1 –\n",
        "    Evolução dos Sistemas Computacionais\\n2.2 – Evolução das Áreas de Aplicação da Computação\\n2.3 – A disseminação da cultura informática\\nUNIDADE 3 – NOÇÕES DE HARDWARE\\n3.1\n",
        "    Componentes Básicos\\n3.2 Circuitos Digitais e Organização de Computadores\\n3.3 Arquitetura de Computadores\\nUNIDADE 4 – SOFTWARES BÁSICOS\\n4.1 – Sistemas Operacionais\\n4.2 –\n",
        "    Linguagens e Compiladores\\nUNIDADE 5 – SISTEMAS DE INFORMAÇÃO\\n5.1 – Conceitos Básicos\\n5.2 - Integração entre negócios, sistemas de informação e tecnologia da\\ninformação\\n5.3 –\n",
        "    Engenharia de Software\\n5.4 – Banco de Dados\\nUNIDADE 6 – SISTEMAS DE COMUNICAÇÃO\\n6.1 – Redes de Computadores\\n6.2 – Sistemas Distribuídos\\n PROGRAMA: (continuação)\\nUNIDADE 7 –\n",
        "    CONTEXTOS PROFISSIONAIS\\n7.1 – Empresa e Organizações\\n7.2 – Sociedade\\n7.3 – O Sistema de Informação nas Organizações\"\"\"]\n",
        "  },\n",
        "  {\n",
        "    \"role\": \"model\",\n",
        "    \"parts\": [\"\"\"## Análise de Aproveitamento para Nova Disciplina\\n\\n**Disciplinas Comparadas:**\\n\\n* **1º Período - Tecnologia e Sociedade:** 20-30%\\n* **1º Período - Leitura e Produção Textual\n",
        "    Aplicada:** 0%\\n* **1º Período - Lógica Computacional:** 0%\\n* **1º Período - Empreendedorismo e Inovação:** 0%\\n* **1º Período - Fundamentos da Computação:** 60-70%\\n* **1º Período -\n",
        "    Fundamentos da Matemática:** 0% \\n* **1º Período - Métodos e Técnicas de Pesquisa:** 0%\\n* **2º Período - Língua Portuguesa II:** 0%\\n* **2º Período - Inglês Instrumental:** 0%\\n* **2º\n",
        "    Período - Cálculo Diferencial e Integral:** 0%\\n* **2º Período - Geometria Analítica e Álgebra Linear:** 0%\\n* **2º Período - Algoritmos e Linguagem de Programação:** 10-20%\\n* **2º\n",
        "    Período - Métodos e Técnicas de Pesquisa II:** 0%\\n* **2º Período - Organização, Sistemas e Métodos:** 20-30%\"\"\"]\n",
        "  },\n",
        "  {\n",
        "    \"role\": \"user\",\n",
        "    \"parts\": [\"\"\"UNIDADE 1 - PROGRESSÕES ARITMÉTICA E GEOMÉTRICA\\n1.1 - Progressão aritmética(P.A.).\\n1.2 - Soma dos \\\"n\\\" primeiros termos de uma P.A.\\n1.3 -\n",
        "    Progressão geométrica(P.G.).\\n1.4 - Taxas equivalentes.\\n1.5 - Soma dos \\\"n\\\" primeiros termos de uma P.G.\\n1.6 - Soma dos infinitos termos de uma P.G.\\nUNIDADE 2 -\n",
        "    RELAÇÕES DE RECORRÊNCIA\\n2.1 - Relações lineares de primeira ordem.\\n2.2 - Relações lineares de segunda ordem.\\nUNIDADE 3 - MATEMÁTICA FINANCEIRA\\n3.1 - Juros simples.\\n3.2 -\n",
        "    Juros compostos.\\n3.3 - Fórmula das taxas equivalentes.\\n3.4 - Taxas proporcionais não-equivalentes.\\nUNIDADE 4 - ANÁLISE COMBINATÓRIA\\n4.1 - Os princípios aditivo e multiplicativo.\n",
        "    \\n4.2 - Permutações simples.\\n4.3 - Arranjos simples.\\n4.4 - Combinações simples.\\n4.5 - Combinações complementares.\\n4.6 - Combinações com repetição.\\n4.7 - Permutações\n",
        "    com repetição.\\n4.8 - Arranjos com repetição. (SEGUE)\\n PROGRAMA: (continuação)\\n4.9 - O triângulo aritmético.\\n4.10- O Binômio de Newton.\\nUNIDADE 5 - MÉDIAS E O PRINCÍPIO\n",
        "    DAS GAVETAS\\n5.1 - Médias aritmética, geométrica, harmônica e quadrática.\\n5.2 - O Princípio das gavetas de Dirichlet e algumas aplicações.\\n5.3 - Desigualdade das médias.\n",
        "    \\n5.4 - Aplicações a problemas de máximos e mínimos.\\nUNIDADE 6 - NOÇÕES DA TEORIA DOS GRAFOS\\n6.1 - (Multi)grafos Eulerianos.\\n6.2 - Isomorfismo.\\n6.3 - Planaridade.\\n6.4 -\n",
        "    Coloração de grafos.\"\"\"]\n",
        "  },\n",
        "  {\n",
        "    \"role\": \"model\",\n",
        "    \"parts\": [\"\"\"## Análise de Aproveitamento para Nova Disciplina\\n\\n**Disciplinas Comparadas:**\\n\\n* **1º Período - Tecnologia e Sociedade:** 0%\\n* **1º Período - Leitura e\n",
        "    Produção Textual Aplicada:** 0%\\n* **1º Período - Lógica Computacional:** 0%\\n* **1º Período - Empreendedorismo e Inovação:** 0%\\n* **1º Período - Fundamentos da\n",
        "    Computação:** 0%\\n* **1º Período - Fundamentos da Matemática:** 30-40% \\n* **1º Período - Métodos e Técnicas de Pesquisa:** 0%\\n* **2º Período - Língua Portuguesa II:**\n",
        "    0%\\n* **2º Período - Inglês Instrumental:** 0%\\n* **2º Período - Cálculo Diferencial e Integral:** 0%\\n* **2º Período - Geometria Analítica e Álgebra Linear:** 0%\\n* **2º\n",
        "    Período - Algoritmos e Linguagem de Programação:** 0%\\n* **2º Período - Métodos e Técnicas de Pesquisa II:** 0%\\n* **2º Período - Organização, Sistemas e Métodos:** 0%\"\"\"]\n",
        "  },\n",
        "  {\n",
        "    \"role\": \"user\",\n",
        "    \"parts\": [\"\"\"UNIDADE 1 - INTRODUÇÃO E CONCEITOS\\n1.1 - Terminologia básica.\\n1.2 - Noções de arquitetura e organização.\\n1.3 - Noções básicas de sistemas operacionais.\\nUNIDADE 2 –\n",
        "    LÓGICA DA PROGRAMAÇÃO\\n2.1 - Conceito de problemas e enunciados de problemas.\\n2.2 - Conceito de algoritmo.\\n2.3 - Conceito de programa.\\n2.4 - Etapas da solução de um problema.\n",
        "    \\nUNIDADE 3 - METODOLOGIAS DE PROJETOS DE PROGRAMAS\\n3.1 - Dado e resultado.\\n3.2 - Instruções (comandos).\\n3.3 - Métodos para representação de algoritmos.\\n3.4 - Prática de solução\n",
        "    de pequenos problemas.\\nUNIDADE 4 – DADOS, EXPRESSÕES E ALGORITMOS SEQUENCIAIS\\n4.1 – Tipos de dados.\\n4.2 – Constantes e variáveis.\\n4.3 - Expressões.\\n4.4 – Atribuição.\\n4.5 –\n",
        "    Entrada e saída.\\n(SEGUE)\\n PROGRAMA: (continuação)\\nUNIDADE 5 – ALGORITMOS ESTRUTURADOS\\n5.1 - Execução condicional.\\n5.2 – Estruturas de repetição.\\n5.3 – Contadores e acumuladores.\n",
        "    \\nUNIDADE 6 – DADOS ESTRUTURADOS\\n6.1 - Variáveis compostas homogêneas.\\n 6.1.1 - Unidimensionais.\\n 6.1.2 - Multidimensionais.\\n6.2 - Variáveis compostas heterogêneas.\\n6.3 -\n",
        "    Ponteiros e estruturas dinâmicas.\\nUNIDADE 7 - MODULARIZAÇÃO\\n7.1 – Subprogramas.\\n7.2 - Argumentos.\\n7.3 - Recursividade.\"\"\"]\n",
        "  },\n",
        "  {\n",
        "    \"role\": \"model\",\n",
        "    \"parts\": [\"\"\"## Análise de Aproveitamento para Nova Disciplina\\n\\n**Disciplinas Comparadas:**\\n\\n* **1º Período - Tecnologia e Sociedade:** 0%\\n* **1º Período - Leitura e\n",
        "    Produção Textual Aplicada:** 0%\\n* **1º Período - Lógica Computacional:** 20-30%\\n* **1º Período - Empreendedorismo e Inovação:** 0%\\n* **1º Período - Fundamentos da\n",
        "    Computação:** 10-20%\\n* **1º Período - Fundamentos da Matemática:** 0% \\n* **1º Período - Métodos e Técnicas de Pesquisa:** 0%\\n* **2º Período - Língua Portuguesa II:** 0%\\n*\n",
        "    **2º Período - Inglês Instrumental:** 0%\\n* **2º Período - Cálculo Diferencial e Integral:** 0%\\n* **2º Período - Geometria Analítica e Álgebra Linear:** 0%\\n* **2º Período -\n",
        "    Algoritmos e Linguagem de Programação:** 70-80%\\n* **2º Período - Métodos e Técnicas de Pesquisa II:** 0%\\n* **2º Período - Organização, Sistemas e Métodos:** 0%\"\"\"]\n",
        "  },\n",
        "  {\n",
        "    \"role\": \"user\",\n",
        "    \"parts\": [\"\"\"CONTEÚDO PROGRAMÁTICO\\nUNIIDADE I: Estrutura das Organizações e Instrumentos de Gestão (20h)\\n1.1.Organização: conceito e classificação: formal, informal\\n1.2.\n",
        "    Teoria de Sistemas\\n1.3.Níveis Hierárquicos: departamentalização, centralização, descentralização, amplitude\\n1.4.Estudos de funções: funções, atividades e tarefas\\n1.5.\n",
        "    Levantamento de cargos, funções e procedimentos: conceitos, técnicas, finalidade\\n1.6.Estudos de processos: conceitos, estratégias, finalidade\\n1.7.Fluxograma: gestão de processos,\n",
        "    de papéis e serviços, modelos de fluxogramas, objetivos\\nUNIDADE II: Gestão do Trabalho (10h)\\n2.1 Racionalização de procedimentos: eficiência do trabalho, quadro de distribuição\n",
        "    do trabalho (QDT)\\n2.2 Análise de pessoal e descrição de cargos e funções\\n2.3 Análise de atividades: conexões possíveis de tarefas\\n2.4 Formulários: metodologia de elaboração,\n",
        "    levantamento e análise das necessidades.\\nUNIDADE III: Gestão do Espaço Físico (10h)\\n3.1 Condições de locais de trabalho: espaço, ergonomia\\n3.2 Equipamentos: levantamento das\n",
        "    necessidades\\n3.3 Sistemas de arquivo\"\"\"]\n",
        "  },\n",
        "  {\n",
        "    \"role\": \"model\",\n",
        "    \"parts\": [\"\"\"## Análise de Aproveitamento para Nova Disciplina\\n\\n**Disciplinas Comparadas:**\\n\\n* **1º Período - Tecnologia e Sociedade:** 0%\\n* **1º Período - Leitura e Produção\n",
        "    Textual Aplicada:** 0%\\n* **1º Período - Lógica Computacional:** 0%\\n* **1º Período - Empreendedorismo e Inovação:** 10-20% \\n* **1º Período - Fundamentos da Computação:**\n",
        "    0%\\n* **1º Período - Fundamentos da Matemática:** 0% \\n* **1º Período - Métodos e Técnicas de Pesquisa:** 0%\\n* **2º Período - Língua Portuguesa II:** 0%\\n* **2º Período -\n",
        "    Inglês Instrumental:** 0%\\n* **2º Período - Cálculo Diferencial e Integral:** 0%\\n* **2º Período - Geometria Analítica e Álgebra Linear:** 0%\\n* **2º Período - Algoritmos e\n",
        "    Linguagem de Programação:** 0%\\n* **2º Período - Métodos e Técnicas de Pesquisa II:** 0%\\n* **2º Período - Organização, Sistemas e Métodos:** 80-90%\"\"\"]\n",
        "  },\n",
        "  {\n",
        "    \"role\": \"user\",\n",
        "    \"parts\": [\"\"\"CONTEÚDO PROGRAMÁTICO\\nUNIDADE I – Conjuntos (10h)\\n1.1 Conceito e Operações\\n1.2 Relações de Pertinência e Inclusão\\n1.3 Relação Binária e Produto\n",
        "    Cartesiano\\n1.4 Diagramas de Venn e Resolução de problemas\\nUNIDADE II – Funções (10h)\\n2.1 Conceito e classificação\\n2.2 Função Polinomial do 1º grau\\n2.3 Função\n",
        "     Polinomial do 2º grau\\nUNIDADE III – Matrizes e Sistemas Lineares (20h)\\n3.1 Conceito e Classificação de Matrizes\\n3.2 Operações com Matrizes\\n3.2.1 Adição e\n",
        "     subtração\\n3.2.2 Produto de um escalar por uma matriz\\n3.2.3 Produto de matrizes\\n3.3 Determinantes e Sistemas Lineares\\n3.3.1 Determinante de 2ª e 3ª ordem\\n3.3.2 Regra\n",
        "     de Chió e Cofator\\n3.3.3 Regra de Cramer\\n3.3.4 Escalonamento de Sistemas Lineares\"\"\"]\n",
        "  },\n",
        "  {\n",
        "    \"role\": \"model\",\n",
        "    \"parts\": [\"\"\"## Análise de Aproveitamento para Nova Disciplina\\n\\n**Disciplinas Comparadas:**\\n\\n* **1º Período - Tecnologia e Sociedade:** 0%\\n* **1º Período -\n",
        "    Leitura e Produção Textual Aplicada:** 0%\\n* **1º Período - Lógica Computacional:** 10-20% \\n* **1º Período - Empreendedorismo e Inovação:** 0%\\n* **1º Período -\n",
        "    Fundamentos da Computação:** 0%\\n* **1º Período - Fundamentos da Matemática:** 90-100% \\n* **1º Período - Métodos e Técnicas de Pesquisa:** 0%\\n* **2º Período -\n",
        "    Língua Portuguesa II:** 0%\\n* **2º Período - Inglês Instrumental:** 0%\\n* **2º Período - Cálculo Diferencial e Integral:** 0%\\n* **2º Período - Geometria Analítica e\n",
        "    Álgebra Linear:** 0%\\n* **2º Período - Algoritmos e Linguagem de Programação:** 0%\\n* **2º Período - Métodos e Técnicas de Pesquisa II:** 0%\\n* **2º Período - Organização,\n",
        "    Sistemas e Métodos:** 0%\"\"\"]\n",
        "  },\n",
        "])"
      ],
      "metadata": {
        "id": "gShSUWnqhIsr"
      },
      "execution_count": 35,
      "outputs": []
    },
    {
      "cell_type": "markdown",
      "source": [
        "# **EMENTÁRIO**"
      ],
      "metadata": {
        "id": "3Kh2i1FphW5a"
      }
    },
    {
      "cell_type": "code",
      "execution_count": null,
      "metadata": {
        "id": "sQ38evjHSClj"
      },
      "outputs": [],
      "source": [
        "def to_markdown(text):\n",
        "    text = text.replace(\".\", \"*\")\n",
        "    return Markdown(textwrap.indent(text, '> ', predicate=lambda _: True))\n",
        "\n",
        "\n",
        "prompt = input(\"Insira sua ementa: \")\n",
        "\n",
        "while prompt.lower() != \"sair\":\n",
        "    response = convo.send_message(prompt)\n",
        "    #print(\"Resposta: \", response.text, \"\\n\")\n",
        "\n",
        "    # Formatação Markdown do texto atual\n",
        "    markdown_text = to_markdown(prompt)\n",
        "    markdown_text = to_markdown(response.text)\n",
        "\n",
        "    # Imprimir o texto Markdown formatado\n",
        "    display(markdown_text)\n",
        "\n",
        "    prompt = input(\"Insira sua ementa: \")\n",
        "\n",
        "\n"
      ]
    }
  ]
}